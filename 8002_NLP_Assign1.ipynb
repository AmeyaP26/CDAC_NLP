{
 "cells": [
  {
   "cell_type": "markdown",
   "id": "5113ff35-f6af-41f1-901a-be5a68d19d09",
   "metadata": {},
   "source": [
    "# Q1) \n",
    "- Find the average of ages\n",
    "- Count the total number of words starting with 't'/'T'\n",
    "- Count total punctuation symbols\n",
    "- Print the words in capital letter which ends with 'd'\n",
    "- Merge all the words and print (no punctuations)"
   ]
  },
  {
   "cell_type": "code",
   "execution_count": 39,
   "id": "ff66a3ed-020c-4caf-a9a9-c621379d3ac1",
   "metadata": {},
   "outputs": [],
   "source": [
    "sent = 'They told? that their/ ages are 25, 27 and 31 respectively.'"
   ]
  },
  {
   "cell_type": "code",
   "execution_count": 62,
   "id": "07583ccc-8ac6-4eb0-ab38-d8efdb14a0b5",
   "metadata": {},
   "outputs": [
    {
     "name": "stdout",
     "output_type": "stream",
     "text": [
      "Average: 27.666666666666668\n"
     ]
    }
   ],
   "source": [
    "#- Find the average of ages\n",
    "import re \n",
    "\n",
    "def digits():\n",
    "    return re.findall(r\"[0-9]+\",sent)\n",
    "    \n",
    "avg = [int(i) for i in digits()]\n",
    "print('Average:', sum(avg)/len(avg))"
   ]
  },
  {
   "cell_type": "code",
   "execution_count": 57,
   "id": "ce498594-e6f8-4827-b163-cbd75eb9399a",
   "metadata": {},
   "outputs": [],
   "source": [
    "lst = sent.split(' ')"
   ]
  },
  {
   "cell_type": "code",
   "execution_count": 58,
   "id": "e70eb0da-b6e9-4020-811d-64a5ae83bc0d",
   "metadata": {},
   "outputs": [
    {
     "data": {
      "text/plain": [
       "4"
      ]
     },
     "execution_count": 58,
     "metadata": {},
     "output_type": "execute_result"
    }
   ],
   "source": [
    "#- Count the total number of words starting with 't'/'T'\n",
    "len([i for i in lst if i.startswith('t') or i.startswith('T')])"
   ]
  },
  {
   "cell_type": "code",
   "execution_count": 59,
   "id": "952ec070-b6b1-4874-8c1b-20397faaf604",
   "metadata": {},
   "outputs": [
    {
     "name": "stdout",
     "output_type": "stream",
     "text": [
      "4\n"
     ]
    }
   ],
   "source": [
    "#- Count total punctuation symbols\n",
    "import re \n",
    "\n",
    "def custom_tokenizer(sent):\n",
    "    return re.findall(r\"[^\\w\\s]+\",sent)\n",
    "\n",
    "print(len(custom_tokenizer(sent)))"
   ]
  },
  {
   "cell_type": "code",
   "execution_count": 60,
   "id": "e7193209-aaa4-435c-b3d9-19e1678091a4",
   "metadata": {},
   "outputs": [
    {
     "data": {
      "text/plain": [
       "['AND']"
      ]
     },
     "execution_count": 60,
     "metadata": {},
     "output_type": "execute_result"
    }
   ],
   "source": [
    "#- Print the words in capuital letter which ends with 'd'\n",
    "[i.upper() for i in lst if i.endswith('d')]"
   ]
  },
  {
   "cell_type": "code",
   "execution_count": 61,
   "id": "61ee0245-4293-4094-b9f2-403098a380e9",
   "metadata": {},
   "outputs": [
    {
     "data": {
      "text/plain": [
       "'Theythatagesareand'"
      ]
     },
     "execution_count": 61,
     "metadata": {},
     "output_type": "execute_result"
    }
   ],
   "source": [
    "#- Merge all the words and print (no punctuations)\n",
    "\n",
    "''.join([i for i in lst if i.isalpha()])"
   ]
  },
  {
   "cell_type": "markdown",
   "id": "2156f42d-c175-41c4-a814-399f001199d0",
   "metadata": {},
   "source": [
    "# Q2) \n",
    "- Open the wikipedia page of Indian flag and perform following analysis\n",
    "- Count total number of words\n",
    "- Count percentage of punctuation marks\n",
    "- Print total number of lines\n",
    "- How many words are in title case\n",
    "- Remove the numbers and print the text"
   ]
  },
  {
   "cell_type": "code",
   "execution_count": 99,
   "id": "cbc5f420-ee7c-446b-8648-c5a101a4f70d",
   "metadata": {},
   "outputs": [
    {
     "data": {
      "text/plain": [
       "'Usage of the flag is governed by the Flag Code of India and other laws relating to the national emblems. \\nThe original code prohibited use of the flag by private citizens except on national days such as the Independence day and the Republic Day. \\nIn 2002, on hearing an appeal from a private citizen, Naveen Jindal, the Supreme Court of India directed the Government of India to amend the code to allow flag usage by private citizens. \\nSubsequently, the Union Cabinet of India amended the code to allow limited usage. \\nThe code was amended once more in 2005 to allow some additional use including adaptations on certain forms of clothing. The flag code also governs the protocol of flying the flag and its use in conjunction with other national and non-national flags.'"
      ]
     },
     "execution_count": 99,
     "metadata": {},
     "output_type": "execute_result"
    }
   ],
   "source": [
    "f = open('IndianFlag_wiki_assign2.txt')\n",
    "text = f.read()\n",
    "text"
   ]
  },
  {
   "cell_type": "code",
   "execution_count": 100,
   "id": "35767fc8-330a-44b0-8c1d-cd75f8dec2c2",
   "metadata": {},
   "outputs": [
    {
     "name": "stdout",
     "output_type": "stream",
     "text": [
      "Total number of words in the paragraph = 134\n"
     ]
    }
   ],
   "source": [
    "#- Count of total number of words\n",
    "print('Total number of words in the paragraph =',len(re.split(r'[^\\w0-9]+', text)))"
   ]
  },
  {
   "cell_type": "code",
   "execution_count": 101,
   "id": "1980cbdd-854c-4a43-ad3f-37c548e18697",
   "metadata": {},
   "outputs": [
    {
     "name": "stdout",
     "output_type": "stream",
     "text": [
      "Percentage of punctuations = 1.4322916666666667\n"
     ]
    }
   ],
   "source": [
    "#- Count percentage of punctuation marks\\n\n",
    "print('Percentage of punctuations =', len(re.findall(r'[^\\w\\s]+', text))*100/len(text))"
   ]
  },
  {
   "cell_type": "code",
   "execution_count": 103,
   "id": "ea4db704-2007-40f0-bf70-69d27e34b374",
   "metadata": {},
   "outputs": [
    {
     "name": "stdout",
     "output_type": "stream",
     "text": [
      "Number of lines = 5\n"
     ]
    }
   ],
   "source": [
    "#- Print total number of lines\\n\n",
    "from nltk.tokenize import LineTokenizer\n",
    "\n",
    "tk = LineTokenizer()\n",
    "\n",
    "print('Number of lines =',len(tk.tokenize(text)))"
   ]
  },
  {
   "cell_type": "code",
   "execution_count": 108,
   "id": "c28e269b-1aae-41e3-b81c-fac4f998cfc6",
   "metadata": {},
   "outputs": [
    {
     "name": "stdout",
     "output_type": "stream",
     "text": [
      "Number of words in title case = 18\n"
     ]
    }
   ],
   "source": [
    "#- How many words are in title case\\n\n",
    "print('Number of words in title case =',len([i for i in text.split(' ') if i[0].isupper()]))"
   ]
  },
  {
   "cell_type": "code",
   "execution_count": 124,
   "id": "2af167dd-42d9-47b0-a40c-e17844669fd4",
   "metadata": {},
   "outputs": [
    {
     "name": "stdout",
     "output_type": "stream",
     "text": [
      "Usage\n",
      "of\n",
      "the\n",
      "flag\n",
      "is\n",
      "governed\n",
      "by\n",
      "the\n",
      "Flag\n",
      "Code\n",
      "of\n",
      "India\n",
      "and\n",
      "other\n",
      "laws\n",
      "relating\n",
      "to\n",
      "the\n",
      "national\n",
      "emblems.\n",
      "The\n",
      "original\n",
      "code\n",
      "prohibited\n",
      "use\n",
      "of\n",
      "the\n",
      "flag\n",
      "by\n",
      "private\n",
      "citizens\n",
      "except\n",
      "on\n",
      "national\n",
      "days\n",
      "such\n",
      "as\n",
      "the\n",
      "Independence\n",
      "day\n",
      "and\n",
      "the\n",
      "Republic\n",
      "Day.\n",
      "In\n",
      ",\n",
      "on\n",
      "hearing\n",
      "an\n",
      "appeal\n",
      "from\n",
      "a\n",
      "private\n",
      "citizen,\n",
      "Naveen\n",
      "Jindal,\n",
      "the\n",
      "Supreme\n",
      "Court\n",
      "of\n",
      "India\n",
      "directed\n",
      "the\n",
      "Government\n",
      "of\n",
      "India\n",
      "to\n",
      "amend\n",
      "the\n",
      "code\n",
      "to\n",
      "allow\n",
      "flag\n",
      "usage\n",
      "by\n",
      "private\n",
      "citizens.\n",
      "Subsequently,\n",
      "the\n",
      "Union\n",
      "Cabinet\n",
      "of\n",
      "India\n",
      "amended\n",
      "the\n",
      "code\n",
      "to\n",
      "allow\n",
      "limited\n",
      "usage.\n",
      "The\n",
      "code\n",
      "was\n",
      "amended\n",
      "once\n",
      "more\n",
      "in\n",
      "to\n",
      "allow\n",
      "some\n",
      "additional\n",
      "use\n",
      "including\n",
      "adaptations\n",
      "on\n",
      "certain\n",
      "forms\n",
      "of\n",
      "clothing.\n",
      "The\n",
      "flag\n",
      "code\n",
      "also\n",
      "governs\n",
      "the\n",
      "protocol\n",
      "of\n",
      "flying\n",
      "the\n",
      "flag\n",
      "and\n",
      "its\n",
      "use\n",
      "in\n",
      "conjunction\n",
      "with\n",
      "other\n",
      "national\n",
      "and\n",
      "non-national\n",
      "flags.\n"
     ]
    }
   ],
   "source": [
    "#- Remove the numbers and print the text\\n\n",
    "for i in re.split(r\"[0-9\\n\\s]+\", text):\n",
    "    print(i)"
   ]
  },
  {
   "cell_type": "code",
   "execution_count": null,
   "id": "7e203a99-37d2-456b-93a1-b68ba24761dd",
   "metadata": {},
   "outputs": [],
   "source": []
  }
 ],
 "metadata": {
  "kernelspec": {
   "display_name": "Python 3 (ipykernel)",
   "language": "python",
   "name": "python3"
  },
  "language_info": {
   "codemirror_mode": {
    "name": "ipython",
    "version": 3
   },
   "file_extension": ".py",
   "mimetype": "text/x-python",
   "name": "python",
   "nbconvert_exporter": "python",
   "pygments_lexer": "ipython3",
   "version": "3.11.7"
  }
 },
 "nbformat": 4,
 "nbformat_minor": 5
}
